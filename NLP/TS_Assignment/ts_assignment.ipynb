{
 "cells": [
  {
   "cell_type": "markdown",
   "metadata": {},
   "source": [
    "**Imports**"
   ]
  },
  {
   "cell_type": "code",
   "execution_count": 2,
   "metadata": {},
   "outputs": [],
   "source": [
    "import numpy as np\n",
    "import random\n",
    "import pandas as pd\n",
    "import matplotlib.pyplot as plt\n",
    "import collections\n",
    "import copy"
   ]
  },
  {
   "cell_type": "markdown",
   "metadata": {},
   "source": [
    "1. Loading the data"
   ]
  },
  {
   "cell_type": "code",
   "execution_count": 3,
   "metadata": {},
   "outputs": [
    {
     "name": "stdout",
     "output_type": "stream",
     "text": [
      "The number of characters in the text is:  652297\n"
     ]
    }
   ],
   "source": [
    "with open ('data/data_small.txt', 'r') as f:\n",
    "    text_to_segment = f.read()\n",
    "\n",
    "char_num = len(text_to_segment)\n",
    "print('The number of characters in the text is: ', char_num)"
   ]
  },
  {
   "cell_type": "markdown",
   "metadata": {},
   "source": [
    "Initializing the s distribution"
   ]
  },
  {
   "cell_type": "code",
   "execution_count": 4,
   "metadata": {},
   "outputs": [
    {
     "name": "stdout",
     "output_type": "stream",
     "text": [
      "The number of 1s in the s distribution is:  326087\n",
      "[0 0 1 1 0 0 1 1 1 0]\n"
     ]
    }
   ],
   "source": [
    "#Initializing the s distribution, either 0 or 1 for each character\n",
    "s = np.random.randint(2, size=char_num)\n",
    "print('The number of 1s in the s distribution is: ', np.sum(s))\n",
    "print(s[:10])"
   ]
  },
  {
   "cell_type": "markdown",
   "metadata": {},
   "source": [
    "Base functions for CRP"
   ]
  },
  {
   "cell_type": "code",
   "execution_count": 5,
   "metadata": {},
   "outputs": [],
   "source": [
    "def segment_text(text_to_segment, s = None):\n",
    "    # Split the text into words based on the s distribution\n",
    "    text_len = len(text_to_segment)\n",
    "    unique_chars = len(set(text_to_segment))\n",
    "    if s is None:\n",
    "        s = np.random.randint(2, size=text_len)\n",
    "    words = []\n",
    "    word = ''\n",
    "    for i in range(len(s)):\n",
    "        if s[i] == 1:\n",
    "            word += text_to_segment[i]\n",
    "            words.append(word)\n",
    "            word = ''\n",
    "        else:\n",
    "            word += text_to_segment[i]\n",
    "    words.append(word)\n",
    "    return words, text_len, unique_chars, s\n",
    "\n",
    "def find_previous_word(index, text, s):\n",
    "    # Find the previous word of the current word\n",
    "    if index == 0 or (s[index] == 1 and s[index - 1] == 1):\n",
    "        return text[index]\n",
    "\n",
    "    start_idx = index - 1 if s[index] == 1 and s[index - 1] == 0 else index\n",
    "\n",
    "    while start_idx >= 0 and s[start_idx] == 0:\n",
    "        start_idx -= 1\n",
    "\n",
    "    start_idx = max(start_idx + 1, 0)\n",
    "    return text[start_idx:index + 1]\n",
    "\n",
    "def find_next_word(index, text, s):\n",
    "    # Find the next word of the current word\n",
    "    start_idx = index + 1\n",
    "    end_idx = start_idx\n",
    "\n",
    "    while end_idx < len(s) and s[end_idx] == 0:\n",
    "        end_idx += 1\n",
    "\n",
    "    return text[start_idx:end_idx+1] if end_idx < len(s) else text[start_idx:]\n",
    "\n",
    "def calculate_word_probability(word, likelihood, unique_chars):\n",
    "    uniform_prob = (1.0 / float(unique_chars)) ** len(word)\n",
    "    continuation_prob = likelihood ** (len(word) - 1)\n",
    "    discontinuation_prob = (1 - likelihood)\n",
    "    \n",
    "    return uniform_prob * continuation_prob * discontinuation_prob"
   ]
  },
  {
   "cell_type": "markdown",
   "metadata": {},
   "source": [
    "Simple functions"
   ]
  },
  {
   "cell_type": "code",
   "execution_count": 6,
   "metadata": {},
   "outputs": [],
   "source": [
    "def update_word_count(word, word_counts, increment):\n",
    "    word_counts[word] = max(0, word_counts[word] + increment)\n",
    "\n",
    "def calculate_p0(alpha, p_c, word, count_word, total_count, unique_chars):\n",
    "    return (alpha * calculate_word_probability(word, p_c, unique_chars) + count_word) / (alpha + total_count)\n",
    "\n",
    "def calculate_p1(alpha, p_c, p_cont, prev_word, next_word, word_counts, total_count, unique_chars):\n",
    "    return (alpha * calculate_word_probability(prev_word, p_c, unique_chars) + word_counts[prev_word]) / (alpha + total_count) * (alpha * calculate_word_probability(next_word, p_c, unique_chars) + word_counts[next_word]) / (alpha + total_count + 1) * p_cont\n",
    "\n",
    "def apply_annealing(p_0, p_1, T):\n",
    "    return p_0 ** (1 / T), p_1 ** (1 / T)\n",
    "\n",
    "def apply_normalization(p_0, p_1):\n",
    "    total_probability = p_0 + p_1\n",
    "    if total_probability == 0:\n",
    "        return 0.5, 0.5\n",
    "    return p_0 / total_probability, p_1 / total_probability"
   ]
  },
  {
   "cell_type": "markdown",
   "metadata": {},
   "source": [
    "**Implementation**"
   ]
  },
  {
   "cell_type": "code",
   "execution_count": 7,
   "metadata": {},
   "outputs": [],
   "source": [
    "def CRP(text, alpha, p_c, p_cont, iterations, T=1, cool_down=1):\n",
    "    # Create initial word segmentation\n",
    "    words, text_length, unique_chars, s = segment_text(text)\n",
    "    word_counts = collections.Counter(words)\n",
    "    total_word_count = sum(word_counts.values())\n",
    "    for _ in range(iterations):\n",
    "        # Iterate randomly through text positions\n",
    "        for position in np.random.permutation(range(0, text_length - 1)):\n",
    "            previous_word = find_previous_word(position, text, s)\n",
    "            next_word = find_next_word(position, text, s)\n",
    "            \n",
    "            if s[position] == 0:\n",
    "                update_word_count(previous_word + next_word, word_counts, -1)\n",
    "                total_word_count -= 1\n",
    "            else:\n",
    "                update_word_count(previous_word, word_counts, -1)\n",
    "                update_word_count(next_word, word_counts, -1)\n",
    "                total_word_count -= 2\n",
    "            \n",
    "            p_0 = calculate_p0(alpha, p_c, previous_word + next_word, word_counts[previous_word + next_word], total_word_count, unique_chars)\n",
    "            p_1 = calculate_p1(alpha, p_c, p_cont, previous_word, next_word, word_counts, total_word_count, unique_chars)\n",
    "            \n",
    "            # Annealing\n",
    "            p_0, p_1 = apply_annealing(p_0, p_1, T)\n",
    "            # Normalization\n",
    "            p_0, p_1 = apply_normalization(p_0, p_1)\n",
    "            \n",
    "            # Randomly assign segmentation marker based on probabilities\n",
    "            s[position] = np.random.choice([0, 1], p=[p_0, p_1])\n",
    "            \n",
    "            if s[position] == 0:\n",
    "                update_word_count(previous_word + next_word, word_counts, 1)\n",
    "                total_word_count += 1\n",
    "            else:\n",
    "                update_word_count(previous_word, word_counts, 1)\n",
    "                update_word_count(next_word, word_counts, 1)\n",
    "                total_word_count += 2\n",
    "        # Decrease temperature for annealing\n",
    "        T = T * cool_down\n",
    "    \n",
    "    # Generate final segmented text\n",
    "    updated_words = segment_text(text, s)[0]\n",
    "    return \" \".join(updated_words)\n"
   ]
  },
  {
   "cell_type": "markdown",
   "metadata": {},
   "source": [
    "**Execution**"
   ]
  },
  {
   "cell_type": "code",
   "execution_count": 8,
   "metadata": {},
   "outputs": [],
   "source": [
    "\n",
    "try: #load the existing initial results\n",
    "    output_file = open('data/initial_results.txt', 'r')\n",
    "    segmented_text = output_file.read()\n",
    "    output_file.close()\n",
    "except:\n",
    "    alpha = 100\n",
    "    p_c = 0.5\n",
    "    p_cont = 0.99\n",
    "    T=1\n",
    "    segmented_text = CRP(text_to_segment, alpha, p_c, p_cont, 1000, T)\n",
    "    output_file = open('data/initial_results.txt', 'w')\n",
    "    output_file.write(segmented_text)\n",
    "    output_file.close()"
   ]
  },
  {
   "cell_type": "markdown",
   "metadata": {},
   "source": [
    "Evaluation"
   ]
  },
  {
   "cell_type": "code",
   "execution_count": 9,
   "metadata": {},
   "outputs": [],
   "source": [
    "def eval(gold_file, result_file):\n",
    "\n",
    "    gold_spaces = [1]\n",
    "    gold_wc = 0\n",
    "\n",
    "    with open(gold_file) as f:\n",
    "        for line in f:\n",
    "            for word in line.strip().split(\" \"):\n",
    "                if word == '':\n",
    "                    continue\n",
    "                for i in range(len(word) - 1):\n",
    "                    gold_spaces.append(0)\n",
    "                gold_spaces.append(1)\n",
    "                gold_wc += 1\n",
    "    f.close()\n",
    "\n",
    "    test_spaces = [1]\n",
    "    test_wc = 0\n",
    "\n",
    "    with open(result_file) as f:\n",
    "        for line in f:\n",
    "            for word in line.strip().split(\" \"):\n",
    "                #print(word)\n",
    "                if word == '':\n",
    "                    continue\n",
    "                for i in range(len(word) - 1):\n",
    "                    test_spaces.append(0)\n",
    "                test_spaces.append(1)\n",
    "                test_wc += 1\n",
    "    f.close()\n",
    "\n",
    "    #print(gold_spaces)\n",
    "    #print(test_spaces)\n",
    "\n",
    "    if len(test_spaces) != len(gold_spaces):\n",
    "        print(\"WARNING: Different sizes of test and gold files: TEST:\", len(test_spaces), \"GOLD:\", len(gold_spaces))\n",
    "\n",
    "    begin_ok = 0\n",
    "    correct_count = 0\n",
    "    for i in range(len(gold_spaces)):\n",
    "        if gold_spaces[i] == 1 and test_spaces[i] == 1:\n",
    "            if begin_ok == 1:\n",
    "                correct_count += 1\n",
    "            begin_ok = 1\n",
    "        elif gold_spaces[i] != test_spaces[i]:\n",
    "            begin_ok = 0\n",
    "\n",
    "    precision = correct_count / test_wc\n",
    "    recall = correct_count / gold_wc\n",
    "    # print(precision)\n",
    "    # print(recall)\n",
    "    f1 = 2 * precision * recall / (precision + recall)\n",
    "\n",
    "    return precision, recall, f1\n"
   ]
  },
  {
   "cell_type": "code",
   "execution_count": 10,
   "metadata": {},
   "outputs": [
    {
     "name": "stdout",
     "output_type": "stream",
     "text": [
      "Initial precision:  0.19022270556978568 Initial recall:  0.31407015388492493 Initial f1:  0.23693880764169242\n"
     ]
    }
   ],
   "source": [
    "initial_precision, initial_recall, initial_f1 = eval('data/data_small_gold.txt', 'data/initial_results.txt')\n",
    "print('Initial precision: ', initial_precision, 'Initial recall: ', initial_recall, 'Initial f1: ', initial_f1)"
   ]
  },
  {
   "cell_type": "markdown",
   "metadata": {},
   "source": [
    "Trying out with high alpha and pc values"
   ]
  },
  {
   "cell_type": "code",
   "execution_count": 11,
   "metadata": {},
   "outputs": [],
   "source": [
    "try: #load the existing initial results\n",
    "    output_file = open('data/high_results.txt', 'r')\n",
    "    segmented_text = output_file.read()\n",
    "    output_file.close()\n",
    "except:\n",
    "    alpha = 10000\n",
    "    p_c = 0.99\n",
    "    p_cont = 0.99\n",
    "    T=1\n",
    "    segmented_text = CRP(text_to_segment, alpha, p_c, p_cont, 1000, T)\n",
    "    output_file = open('data/high_results.txt', 'w')\n",
    "    output_file.write(segmented_text)\n",
    "    output_file.close()"
   ]
  },
  {
   "cell_type": "code",
   "execution_count": 12,
   "metadata": {},
   "outputs": [
    {
     "name": "stdout",
     "output_type": "stream",
     "text": [
      "High precision:  0.20540769404976417 High recall:  0.32857660382113435 High f1:  0.25278706800445927\n"
     ]
    }
   ],
   "source": [
    "high_precision, high_recall, high_f1 = eval('data/data_small_gold.txt', 'data/high_results.txt')\n",
    "print('High precision: ', high_precision, 'High recall: ', high_recall, 'High f1: ', high_f1)"
   ]
  },
  {
   "cell_type": "markdown",
   "metadata": {},
   "source": [
    "Trying out with annealing"
   ]
  },
  {
   "cell_type": "code",
   "execution_count": 13,
   "metadata": {},
   "outputs": [],
   "source": [
    "try: #load the existing initial results\n",
    "    output_file = open('data/annealing_results.txt', 'r')\n",
    "    segmented_text = output_file.read()\n",
    "    output_file.close()\n",
    "except:\n",
    "    alpha = 10000\n",
    "    p_c = 0.99\n",
    "    p_cont = 0.99\n",
    "    T=1\n",
    "    cool_down = 0.99\n",
    "    segmented_text = CRP(text_to_segment, alpha, p_c, p_cont, 1000, T, cool_down)\n",
    "    output_file = open('data/annealing_results.txt', 'w')\n",
    "    output_file.write(segmented_text)\n",
    "    output_file.close()"
   ]
  },
  {
   "cell_type": "code",
   "execution_count": null,
   "metadata": {},
   "outputs": [],
   "source": [
    "annealing_precision, annealing_recall, annealing_f1 = eval('data/data_small_gold.txt', 'data/annealing_results.txt')"
   ]
  }
 ],
 "metadata": {
  "kernelspec": {
   "display_name": "Python 3",
   "language": "python",
   "name": "python3"
  },
  "language_info": {
   "codemirror_mode": {
    "name": "ipython",
    "version": 3
   },
   "file_extension": ".py",
   "mimetype": "text/x-python",
   "name": "python",
   "nbconvert_exporter": "python",
   "pygments_lexer": "ipython3",
   "version": "3.11.5"
  }
 },
 "nbformat": 4,
 "nbformat_minor": 2
}
