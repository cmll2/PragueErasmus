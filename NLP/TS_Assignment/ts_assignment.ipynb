{
 "cells": [
  {
   "cell_type": "markdown",
   "metadata": {},
   "source": [
    "**Imports**"
   ]
  },
  {
   "cell_type": "code",
   "execution_count": 34,
   "metadata": {},
   "outputs": [],
   "source": [
    "import numpy as np\n",
    "import random\n",
    "import pandas as pd\n",
    "import matplotlib.pyplot as plt\n",
    "import collections\n",
    "import copy"
   ]
  },
  {
   "cell_type": "markdown",
   "metadata": {},
   "source": [
    "1. Loading the data"
   ]
  },
  {
   "cell_type": "code",
   "execution_count": 35,
   "metadata": {},
   "outputs": [
    {
     "name": "stdout",
     "output_type": "stream",
     "text": [
      "The number of characters in the text is:  652297\n"
     ]
    }
   ],
   "source": [
    "with open ('data/data_small.txt', 'r') as f:\n",
    "    text_to_segment = f.read()\n",
    "\n",
    "char_num = len(text_to_segment)\n",
    "print('The number of characters in the text is: ', char_num)"
   ]
  },
  {
   "cell_type": "markdown",
   "metadata": {},
   "source": [
    "Initializing the s distribution"
   ]
  },
  {
   "cell_type": "code",
   "execution_count": 36,
   "metadata": {},
   "outputs": [
    {
     "name": "stdout",
     "output_type": "stream",
     "text": [
      "The number of 1s in the s distribution is:  326126\n",
      "[1 1 0 1 1 1 0 0 1 0]\n"
     ]
    }
   ],
   "source": [
    "#Initializing the s distribution, either 0 or 1 for each character\n",
    "s = np.random.randint(2, size=char_num)\n",
    "print('The number of 1s in the s distribution is: ', np.sum(s))\n",
    "print(s[:10])"
   ]
  },
  {
   "cell_type": "markdown",
   "metadata": {},
   "source": [
    "Base functions for CRP"
   ]
  },
  {
   "cell_type": "code",
   "execution_count": 37,
   "metadata": {},
   "outputs": [],
   "source": [
    "def segment_text(text_to_segment, s = None):\n",
    "    # Split the text into words based on the s distribution\n",
    "    text_len = len(text_to_segment)\n",
    "    unique_chars = len(set(text_to_segment))\n",
    "    if s is None:\n",
    "        s = np.random.randint(2, size=text_len)\n",
    "    words = []\n",
    "    word = ''\n",
    "    for i in range(len(s)):\n",
    "        if s[i] == 1:\n",
    "            word += text_to_segment[i]\n",
    "            words.append(word)\n",
    "            word = ''\n",
    "        else:\n",
    "            word += text_to_segment[i]\n",
    "    words.append(word)\n",
    "    return words, text_len, unique_chars, s\n",
    "\n",
    "def find_previous_word(index, text, s):\n",
    "    # Find the previous word of the current word\n",
    "    if index == 0 or (s[index] == 1 and s[index - 1] == 1):\n",
    "        return text[index]\n",
    "\n",
    "    start_idx = index - 1 if s[index] == 1 and s[index - 1] == 0 else index\n",
    "\n",
    "    while start_idx >= 0 and s[start_idx] == 0:\n",
    "        start_idx -= 1\n",
    "\n",
    "    start_idx = max(start_idx + 1, 0)\n",
    "    return text[start_idx:index + 1]\n",
    "\n",
    "def find_next_word(index, text, s):\n",
    "    # Find the next word of the current word\n",
    "    start_idx = index + 1\n",
    "    end_idx = start_idx\n",
    "\n",
    "    while end_idx < len(s) and s[end_idx] == 0:\n",
    "        end_idx += 1\n",
    "\n",
    "    return text[start_idx:end_idx+1] if end_idx < len(s) else text[start_idx:]\n",
    "\n",
    "def calculate_word_probability(word, likelihood, unique_chars):\n",
    "    uniform_prob = (1.0 / float(unique_chars)) ** len(word)\n",
    "    continuation_prob = likelihood ** (len(word) - 1)\n",
    "    discontinuation_prob = (1 - likelihood)\n",
    "    \n",
    "    return uniform_prob * continuation_prob * discontinuation_prob"
   ]
  },
  {
   "cell_type": "markdown",
   "metadata": {},
   "source": [
    "Simple functions"
   ]
  },
  {
   "cell_type": "code",
   "execution_count": 38,
   "metadata": {},
   "outputs": [],
   "source": [
    "def update_word_count(word, word_counts, increment):\n",
    "    word_counts[word] = max(0, word_counts[word] + increment)\n",
    "\n",
    "def calculate_p0(alpha, p_c, word, count_word, total_count, unique_chars):\n",
    "    return (alpha * calculate_word_probability(word, p_c, unique_chars) + count_word) / (alpha + total_count)\n",
    "\n",
    "def calculate_p1(alpha, p_c, p_cont, prev_word, next_word, word_counts, total_count, unique_chars):\n",
    "    return (alpha * calculate_word_probability(prev_word, p_c, unique_chars) + word_counts[prev_word]) / (alpha + total_count) * (alpha * calculate_word_probability(next_word, p_c, unique_chars) + word_counts[next_word]) / (alpha + total_count + 1) * p_cont\n",
    "\n",
    "def apply_annealing(p_0, p_1, T):\n",
    "    return p_0 ** (1 / T), p_1 ** (1 / T)\n",
    "\n",
    "def apply_normalization(p_0, p_1):\n",
    "    total_probability = p_0 + p_1\n",
    "    if total_probability == 0:\n",
    "        return 0.5, 0.5\n",
    "    return p_0 / total_probability, p_1 / total_probability"
   ]
  },
  {
   "cell_type": "markdown",
   "metadata": {},
   "source": [
    "**Implementation**"
   ]
  },
  {
   "cell_type": "code",
   "execution_count": 39,
   "metadata": {},
   "outputs": [],
   "source": [
    "def CRP(text, alpha, p_c, p_cont, iterations, T=1, cool_down=1):\n",
    "    # Create initial word segmentation\n",
    "    words, text_length, unique_chars, s = segment_text(text)\n",
    "    word_counts = collections.Counter(words)\n",
    "    total_word_count = sum(word_counts.values())\n",
    "    for _ in range(iterations):\n",
    "        # Iterate randomly through text positions\n",
    "        for position in np.random.permutation(range(0, text_length - 1)):\n",
    "            previous_word = find_previous_word(position, text, s)\n",
    "            next_word = find_next_word(position, text, s)\n",
    "            if s[position] == 0:\n",
    "                update_word_count(previous_word + next_word, word_counts, -1)\n",
    "                total_word_count -= 1\n",
    "            else:\n",
    "                update_word_count(previous_word, word_counts, -1)\n",
    "                update_word_count(next_word, word_counts, -1)\n",
    "                total_word_count -= 2\n",
    "            p_0 = calculate_p0(alpha, p_c, previous_word + next_word, word_counts[previous_word + next_word], total_word_count, unique_chars)\n",
    "            p_1 = calculate_p1(alpha, p_c, p_cont, previous_word, next_word, word_counts, total_word_count, unique_chars)\n",
    "            # Annealing\n",
    "            p_0, p_1 = apply_annealing(p_0, p_1, T)\n",
    "            # Normalization\n",
    "            p_0, p_1 = apply_normalization(p_0, p_1)\n",
    "            # Randomly assign segmentation marker based on probabilities\n",
    "            s[position] = np.random.choice([0, 1], p=[p_0, p_1])\n",
    "            if s[position] == 0:\n",
    "                update_word_count(previous_word + next_word, word_counts, 1)\n",
    "                total_word_count += 1\n",
    "            else:\n",
    "                update_word_count(previous_word, word_counts, 1)\n",
    "                update_word_count(next_word, word_counts, 1)\n",
    "                total_word_count += 2\n",
    "        # Decrease temperature for annealing\n",
    "        T = T * cool_down\n",
    "    # Generate final segmented text\n",
    "    updated_words = segment_text(text, s)[0]\n",
    "    return \" \".join(updated_words)\n"
   ]
  },
  {
   "cell_type": "markdown",
   "metadata": {},
   "source": [
    "**Execution**"
   ]
  },
  {
   "cell_type": "code",
   "execution_count": 40,
   "metadata": {},
   "outputs": [],
   "source": [
    "\n",
    "try: #load the existing initial results\n",
    "    output_file = open('data/initial_results.txt', 'r')\n",
    "    segmented_text = output_file.read()\n",
    "    output_file.close()\n",
    "except:\n",
    "    alpha = 100\n",
    "    p_c = 0.5\n",
    "    p_cont = 0.99\n",
    "    T=1\n",
    "    segmented_text = CRP(text_to_segment, alpha, p_c, p_cont, 100, T)\n",
    "    output_file = open('data/initial_results.txt', 'w')\n",
    "    output_file.write(segmented_text)\n",
    "    output_file.close()"
   ]
  },
  {
   "cell_type": "markdown",
   "metadata": {},
   "source": [
    "Evaluation"
   ]
  },
  {
   "cell_type": "code",
   "execution_count": 41,
   "metadata": {},
   "outputs": [],
   "source": [
    "def eval(gold_file, result_file):\n",
    "\n",
    "    gold_spaces = [1]\n",
    "    gold_wc = 0\n",
    "\n",
    "    with open(gold_file) as f:\n",
    "        for line in f:\n",
    "            for word in line.strip().split(\" \"):\n",
    "                if word == '':\n",
    "                    continue\n",
    "                for i in range(len(word) - 1):\n",
    "                    gold_spaces.append(0)\n",
    "                gold_spaces.append(1)\n",
    "                gold_wc += 1\n",
    "    f.close()\n",
    "\n",
    "    test_spaces = [1]\n",
    "    test_wc = 0\n",
    "\n",
    "    with open(result_file) as f:\n",
    "        for line in f:\n",
    "            for word in line.strip().split(\" \"):\n",
    "                #print(word)\n",
    "                if word == '':\n",
    "                    continue\n",
    "                for i in range(len(word) - 1):\n",
    "                    test_spaces.append(0)\n",
    "                test_spaces.append(1)\n",
    "                test_wc += 1\n",
    "    f.close()\n",
    "\n",
    "    #print(gold_spaces)\n",
    "    #print(test_spaces)\n",
    "\n",
    "    if len(test_spaces) != len(gold_spaces):\n",
    "        print(\"WARNING: Different sizes of test and gold files: TEST:\", len(test_spaces), \"GOLD:\", len(gold_spaces))\n",
    "\n",
    "    begin_ok = 0\n",
    "    correct_count = 0\n",
    "    for i in range(len(gold_spaces)):\n",
    "        if gold_spaces[i] == 1 and test_spaces[i] == 1:\n",
    "            if begin_ok == 1:\n",
    "                correct_count += 1\n",
    "            begin_ok = 1\n",
    "        elif gold_spaces[i] != test_spaces[i]:\n",
    "            begin_ok = 0\n",
    "\n",
    "    precision = correct_count / test_wc\n",
    "    recall = correct_count / gold_wc\n",
    "    # print(precision)\n",
    "    # print(recall)\n",
    "    f1 = 2 * precision * recall / (precision + recall)\n",
    "\n",
    "    return precision, recall, f1\n"
   ]
  },
  {
   "cell_type": "code",
   "execution_count": 42,
   "metadata": {},
   "outputs": [
    {
     "name": "stdout",
     "output_type": "stream",
     "text": [
      "Initial precision:  0.1774104501205638 Initial recall:  0.2960906613744113 Initial f1:  0.22187731448012535\n"
     ]
    }
   ],
   "source": [
    "initial_precision, initial_recall, initial_f1 = eval('data/data_small_gold.txt', 'data/initial_results.txt')\n",
    "print('Initial precision: ', initial_precision, 'Initial recall: ', initial_recall, 'Initial f1: ', initial_f1)"
   ]
  },
  {
   "cell_type": "markdown",
   "metadata": {},
   "source": [
    "We can see above our initial results."
   ]
  },
  {
   "cell_type": "markdown",
   "metadata": {},
   "source": [
    "Trying out with high alpha and pc values"
   ]
  },
  {
   "cell_type": "code",
   "execution_count": 43,
   "metadata": {},
   "outputs": [],
   "source": [
    "try: #load the existing initial results\n",
    "    output_file = open('data/high_results.txt', 'r')\n",
    "    segmented_text = output_file.read()\n",
    "    output_file.close()\n",
    "except:\n",
    "    alpha = 10000\n",
    "    p_c = 0.99\n",
    "    p_cont = 0.99\n",
    "    T=1\n",
    "    segmented_text = CRP(text_to_segment, alpha, p_c, p_cont, 100, T)\n",
    "    output_file = open('data/high_results.txt', 'w')\n",
    "    output_file.write(segmented_text)\n",
    "    output_file.close()"
   ]
  },
  {
   "cell_type": "code",
   "execution_count": 44,
   "metadata": {},
   "outputs": [
    {
     "name": "stdout",
     "output_type": "stream",
     "text": [
      "High precision:  0.17553939393939394 High recall:  0.2851281324323899 High f1:  0.21729866637857564\n"
     ]
    }
   ],
   "source": [
    "high_precision, high_recall, high_f1 = eval('data/data_small_gold.txt', 'data/high_results.txt')\n",
    "print('High precision: ', high_precision, 'High recall: ', high_recall, 'High f1: ', high_f1)"
   ]
  },
  {
   "cell_type": "markdown",
   "metadata": {},
   "source": [
    "Trying out with annealing"
   ]
  },
  {
   "cell_type": "code",
   "execution_count": 45,
   "metadata": {},
   "outputs": [],
   "source": [
    "try: #load the existing initial results\n",
    "    output_file = open('data/annealing_results.txt', 'r')\n",
    "    segmented_text = output_file.read()\n",
    "    output_file.close()\n",
    "except:\n",
    "    alpha = 10000\n",
    "    p_c = 0.99\n",
    "    p_cont = 0.99\n",
    "    T=1\n",
    "    cool_down = 0.99\n",
    "    segmented_text = CRP(text_to_segment, alpha, p_c, p_cont, 100, T, cool_down)\n",
    "    output_file = open('data/annealing_results.txt', 'w')\n",
    "    output_file.write(segmented_text)\n",
    "    output_file.close()"
   ]
  },
  {
   "cell_type": "code",
   "execution_count": 46,
   "metadata": {},
   "outputs": [
    {
     "name": "stdout",
     "output_type": "stream",
     "text": [
      "Annealing precision:  0.14821982188345412 Annealing recall:  0.23645040873222134 Annealing f1:  0.18221653082156447\n"
     ]
    }
   ],
   "source": [
    "annealing_precision, annealing_recall, annealing_f1 = eval('data/data_small_gold.txt', 'data/annealing_results.txt')\n",
    "print('Annealing precision: ', annealing_precision, 'Annealing recall: ', annealing_recall, 'Annealing f1: ', annealing_f1)"
   ]
  },
  {
   "cell_type": "markdown",
   "metadata": {},
   "source": [
    "It didn't work really well, let's try by increasing the initial temperature"
   ]
  },
  {
   "cell_type": "code",
   "execution_count": 47,
   "metadata": {},
   "outputs": [],
   "source": [
    "try: #load the existing initial results\n",
    "    output_file = open('data/temp_annealing_results.txt', 'r')\n",
    "    segmented_text = output_file.read()\n",
    "    output_file.close()\n",
    "except:\n",
    "    alpha = 10000\n",
    "    p_c = 0.99\n",
    "    p_cont = 0.99\n",
    "    T=5\n",
    "    cool_down = 0.99\n",
    "    segmented_text = CRP(text_to_segment, alpha, p_c, p_cont, 100, T, cool_down)\n",
    "    output_file = open('data/temp_annealing_results.txt', 'w')\n",
    "    output_file.write(segmented_text)\n",
    "    output_file.close()"
   ]
  },
  {
   "cell_type": "code",
   "execution_count": 48,
   "metadata": {},
   "outputs": [
    {
     "name": "stdout",
     "output_type": "stream",
     "text": [
      "Temperature annealing precision:  0.18599802930496506 Temperature annealing recall:  0.3211028682133913 Temperature annealing f1:  0.23555273115919\n"
     ]
    }
   ],
   "source": [
    "temp_annealing_precision, temp_annealing_recall, temp_annealing_f1 = eval('data/data_small_gold.txt', 'data/temp_annealing_results.txt')\n",
    "print('Temperature annealing precision: ', temp_annealing_precision, 'Temperature annealing recall: ', temp_annealing_recall, 'Temperature annealing f1: ', temp_annealing_f1)"
   ]
  },
  {
   "cell_type": "markdown",
   "metadata": {},
   "source": [
    "Pitman-Yor Process"
   ]
  },
  {
   "cell_type": "code",
   "execution_count": 49,
   "metadata": {},
   "outputs": [],
   "source": [
    "#base functions for Pitman-Yor process\n",
    "def update_word_count_PitmanYor(word, word_counts, increment, K):\n",
    "    if word not in word_counts:\n",
    "        word_counts[word] = max(0, word_counts[word] + increment)\n",
    "        K += 1\n",
    "    else:\n",
    "        initial = word_counts[word]\n",
    "        word_counts[word] = max(0, word_counts[word] + increment)\n",
    "        if initial == 0 and word_counts[word] > 0:\n",
    "            K += 1\n",
    "        elif initial > 0 and word_counts[word] == 0:\n",
    "            K -= 1\n",
    "\n",
    "def calculate_word_probability_PitmanYor(word, counts, discount, alpha, word_num, unique_chars, p_c, K):\n",
    "    if counts[word] > 0:\n",
    "        return (counts[word] - discount)/(alpha+word_num-1)\n",
    "    else:\n",
    "        return ((alpha + discount*K)/(alpha+word_num-1))*calculate_word_probability(word, p_c, unique_chars)\n",
    "    \n",
    "def calculate_p0_PitmanYor(alpha, p_c, word, counts, total_count, unique_chars, discount, word_num, K):\n",
    "    return (alpha * calculate_word_probability_PitmanYor(word, counts, discount, alpha, word_num, unique_chars, p_c, K) + counts[word]) / (alpha + total_count)\n",
    "\n",
    "def calculate_p1_PitmanYor(alpha, p_c, p_cont, prev_word, next_word, word_counts, total_count, unique_chars, discount, word_num, K):\n",
    "    return ((alpha * calculate_word_probability_PitmanYor(prev_word, word_counts, discount, alpha, word_num, unique_chars, p_c, K) + word_counts[prev_word]) / ((alpha + total_count)) * (alpha * calculate_word_probability_PitmanYor(next_word, word_counts, discount, alpha, word_num, unique_chars, p_c, K) + word_counts[next_word]) / (alpha + total_count + 1)) * p_cont"
   ]
  },
  {
   "cell_type": "code",
   "execution_count": 50,
   "metadata": {},
   "outputs": [],
   "source": [
    "def PitmanYor(text, alpha, discount, iterations, p_c, p_cont, T=1, cool_down=1):\n",
    "    # Create initial word segmentation\n",
    "    words, text_length, unique_chars, s = segment_text(text)\n",
    "    word_counts = collections.Counter(words)\n",
    "    K = len(word_counts)\n",
    "    total_word_count = sum(word_counts.values())\n",
    "    for _ in range(iterations):\n",
    "        # Iterate randomly through text positions\n",
    "        for position in np.random.permutation(range(0, text_length - 1)):\n",
    "            previous_word = find_previous_word(position, text, s)\n",
    "            next_word = find_next_word(position, text, s)\n",
    "            if s[position] == 0:\n",
    "                update_word_count_PitmanYor(previous_word + next_word, word_counts, -1, K)\n",
    "                total_word_count -= 1\n",
    "            else:\n",
    "                update_word_count_PitmanYor(previous_word, word_counts, -1, K)\n",
    "                update_word_count_PitmanYor(next_word, word_counts, -1, K)\n",
    "                total_word_count -= 2\n",
    "            p_0 = calculate_p0_PitmanYor(alpha, p_c, previous_word + next_word, word_counts, total_word_count, unique_chars, discount, total_word_count, K)\n",
    "            p_1 = calculate_p1_PitmanYor(alpha, p_c, p_cont, previous_word, next_word, word_counts, total_word_count, unique_chars, discount, total_word_count, K)\n",
    "            # Annealing\n",
    "            p_0, p_1 = apply_annealing(p_0, p_1, T)\n",
    "            # Normalization\n",
    "            p_0, p_1 = apply_normalization(p_0, p_1)   \n",
    "            # Randomly assign segmentation marker based on probabilities\n",
    "            s[position] = np.random.choice([0, 1], p=[p_0, p_1])\n",
    "            if s[position] == 0:\n",
    "                update_word_count_PitmanYor(previous_word + next_word, word_counts, 1, K)\n",
    "                total_word_count += 1\n",
    "            else:\n",
    "                update_word_count_PitmanYor(previous_word, word_counts, 1, K)\n",
    "                update_word_count_PitmanYor(next_word, word_counts, 1, K)\n",
    "                total_word_count += 2\n",
    "        # Decrease temperature for annealing\n",
    "        T = T * cool_down\n",
    "    # Generate final segmented text\n",
    "    updated_words = segment_text(text, s)[0]\n",
    "    return \" \".join(updated_words)"
   ]
  },
  {
   "cell_type": "markdown",
   "metadata": {},
   "source": [
    "Trying out with the same parameter as previous so that we can compare"
   ]
  },
  {
   "cell_type": "code",
   "execution_count": 51,
   "metadata": {},
   "outputs": [],
   "source": [
    "try: #load the existing initial results\n",
    "    output_file = open('data/py_7_initial_results.txt', 'r')\n",
    "    segmented_text = output_file.read()\n",
    "    output_file.close()\n",
    "except:\n",
    "    alpha = 100\n",
    "    p_c = 0.5\n",
    "    p_cont = 0.99\n",
    "    T=1\n",
    "    discount = 0.7\n",
    "    segmented_text = PitmanYor(text_to_segment, alpha, discount, 100, p_c, p_cont, T)\n",
    "    output_file = open('data/py_7_initial_results.txt', 'w')\n",
    "    output_file.write(segmented_text)\n",
    "    output_file.close()"
   ]
  },
  {
   "cell_type": "markdown",
   "metadata": {},
   "source": [
    "Evalutation and comparison"
   ]
  },
  {
   "cell_type": "code",
   "execution_count": 53,
   "metadata": {},
   "outputs": [
    {
     "name": "stdout",
     "output_type": "stream",
     "text": [
      "Pitman-Yor initial precision:  0.1773841859415972 Pitman-Yor initial recall:  0.297271968372474 Pitman-Yor initial f1:  0.2221875588623093\n"
     ]
    }
   ],
   "source": [
    "py_initial_precision, py_initial_recall, py_initial_f1 = eval('data/data_small_gold.txt', 'data/py_7_initial_results.txt')\n",
    "print('Pitman-Yor initial precision: ', py_initial_precision, 'Pitman-Yor initial recall: ', py_initial_recall, 'Pitman-Yor initial f1: ', py_initial_f1)"
   ]
  },
  {
   "cell_type": "code",
   "execution_count": 54,
   "metadata": {},
   "outputs": [],
   "source": [
    "try: #load the existing initial results\n",
    "    output_file = open('data/py_5_initial_results.txt', 'r')\n",
    "    segmented_text = output_file.read()\n",
    "    output_file.close()\n",
    "except:\n",
    "    alpha = 100\n",
    "    p_c = 0.5\n",
    "    p_cont = 0.99\n",
    "    T=1\n",
    "    discount = 0.5\n",
    "    segmented_text = PitmanYor(text_to_segment, alpha, discount, 100, p_c, p_cont, T)\n",
    "    output_file = open('data/py_5_initial_results.txt', 'w')\n",
    "    output_file.write(segmented_text)\n",
    "    output_file.close()"
   ]
  },
  {
   "cell_type": "code",
   "execution_count": 55,
   "metadata": {},
   "outputs": [
    {
     "name": "stdout",
     "output_type": "stream",
     "text": [
      "Pitmam-Yor initial d=0.5 precision:  0.17773175495987387 Pitmam-Yor initial d=0.5 recall:  0.2973743483123061 Pitmam-Yor initial d=0.5 f1:  0.22248867965106517\n"
     ]
    }
   ],
   "source": [
    "py_initial_5_precision, py_initial_5_recall, py_initial_5_f1 = eval('data/data_small_gold.txt', 'data/py_5_initial_results.txt')\n",
    "print(\"Pitmam-Yor initial d=0.5 precision: \", py_initial_5_precision, \"Pitmam-Yor initial d=0.5 recall: \", py_initial_5_recall, \"Pitmam-Yor initial d=0.5 f1: \", py_initial_5_f1)"
   ]
  },
  {
   "cell_type": "code",
   "execution_count": 57,
   "metadata": {},
   "outputs": [],
   "source": [
    "try: #load the existing initial results\n",
    "    output_file = open('data/py_temp_annealing_results.txt', 'r')\n",
    "    segmented_text = output_file.read()\n",
    "    output_file.close()\n",
    "except:\n",
    "    alpha = 10000\n",
    "    p_c = 0.5\n",
    "    p_cont = 0.99\n",
    "    T=5\n",
    "    cool_down = 0.99\n",
    "    discount = 0.5\n",
    "    segmented_text = PitmanYor(text_to_segment, alpha, discount, 100, p_c, p_cont, T, cool_down)\n",
    "    output_file = open('data/py_temp_annealing_results.txt', 'w')\n",
    "    output_file.write(segmented_text)\n",
    "    output_file.close()"
   ]
  },
  {
   "cell_type": "code",
   "execution_count": 58,
   "metadata": {},
   "outputs": [
    {
     "name": "stdout",
     "output_type": "stream",
     "text": [
      "Pitman-Yor temperature annealing precision:  0.17221563280973035 Pitman-Yor temperature annealing recall:  0.30988045173179607 Pitman-Yor temperature annealing f1:  0.22139262193389392\n"
     ]
    }
   ],
   "source": [
    "py_temp_annealing_precision, py_temp_annealing_recall, py_temp_annealing_f1 = eval('data/data_small_gold.txt', 'data/py_temp_annealing_results.txt')\n",
    "print('Pitman-Yor temperature annealing precision: ', py_temp_annealing_precision, 'Pitman-Yor temperature annealing recall: ', py_temp_annealing_recall, 'Pitman-Yor temperature annealing f1: ', py_temp_annealing_f1)"
   ]
  },
  {
   "cell_type": "code",
   "execution_count": 59,
   "metadata": {},
   "outputs": [],
   "source": [
    "try: #load the existing initial results\n",
    "    output_file = open('data/py_temp_annealing_results_1000.txt', 'r')\n",
    "    segmented_text = output_file.read()\n",
    "    output_file.close()\n",
    "except:\n",
    "    alpha = 1000\n",
    "    p_c = 0.5\n",
    "    p_cont = 0.99\n",
    "    T=5\n",
    "    cool_down = 0.99\n",
    "    discount = 0.5\n",
    "    segmented_text = PitmanYor(text_to_segment, alpha, discount, 100, p_c, p_cont, T, cool_down)\n",
    "    output_file = open('data/py_temp_annealing_results_1000.txt', 'w')\n",
    "    output_file.write(segmented_text)\n",
    "    output_file.close()"
   ]
  },
  {
   "cell_type": "code",
   "execution_count": 60,
   "metadata": {},
   "outputs": [
    {
     "name": "stdout",
     "output_type": "stream",
     "text": [
      "Pitman-Yor temperature annealing precision with alpha=1000:  0.15877510290632407 Pitman-Yor temperature annealing recall with alpha=1000:  0.3007371355667911 Pitman-Yor temperature annealing f1 with alpha=1000:  0.2078271943573668\n"
     ]
    }
   ],
   "source": [
    "py_temp_annealing_1000_precision, py_temp_annealing_1000_recall, py_temp_annealing_1000_f1 = eval('data/data_small_gold.txt', 'data/py_temp_annealing_results_1000.txt')\n",
    "print('Pitman-Yor temperature annealing precision with alpha=1000: ', py_temp_annealing_1000_precision, 'Pitman-Yor temperature annealing recall with alpha=1000: ', py_temp_annealing_1000_recall, 'Pitman-Yor temperature annealing f1 with alpha=1000: ', py_temp_annealing_1000_f1)"
   ]
  },
  {
   "cell_type": "markdown",
   "metadata": {},
   "source": [
    "Let's have a dataframe to have a better view on each metric"
   ]
  },
  {
   "cell_type": "code",
   "execution_count": 64,
   "metadata": {},
   "outputs": [
    {
     "name": "stdout",
     "output_type": "stream",
     "text": [
      "                                        Precision    Recall        F1\n",
      "Initial                                  0.177410  0.296091  0.221877\n",
      "High                                     0.175539  0.285128  0.217299\n",
      "Annealing                                0.148220  0.236450  0.182217\n",
      "Temperature Annealing                    0.185998  0.321103  0.235553\n",
      "Pitman-Yor Initial d=0.7                 0.177384  0.297272  0.222188\n",
      "Pitman-Yor Initial d=0.5                 0.177732  0.297374  0.222489\n",
      "Pitman-Yor Temperature Annealing a=1e4   0.172216  0.309880  0.221393\n",
      "Pitman-Yor Temperature Annealing a=1e3   0.158775  0.300737  0.207827\n"
     ]
    }
   ],
   "source": [
    "#dataframe to compare the results\n",
    "import pandas as pd\n",
    "data = {'Precision': [initial_precision, high_precision, annealing_precision, temp_annealing_precision, py_initial_precision, py_initial_5_precision, py_temp_annealing_precision, py_temp_annealing_1000_precision],\n",
    "        'Recall': [initial_recall, high_recall, annealing_recall, temp_annealing_recall, py_initial_recall, py_initial_5_recall, py_temp_annealing_recall, py_temp_annealing_1000_recall],\n",
    "        'F1': [initial_f1, high_f1, annealing_f1, temp_annealing_f1, py_initial_f1, py_initial_5_f1, py_temp_annealing_f1, py_temp_annealing_1000_f1]}\n",
    "dataframe = pd.DataFrame(data, index=['Initial', 'High', 'Annealing', 'Temperature Annealing', 'Pitman-Yor Initial d=0.7', 'Pitman-Yor Initial d=0.5', 'Pitman-Yor Temperature Annealing a=1e4', 'Pitman-Yor Temperature Annealing a=1e3'])\n",
    "print(dataframe)"
   ]
  },
  {
   "cell_type": "markdown",
   "metadata": {},
   "source": [
    "We can see here that our best model was using a higher initial temperature with annealing with the Chinese Restaurant Process"
   ]
  }
 ],
 "metadata": {
  "kernelspec": {
   "display_name": "Python 3",
   "language": "python",
   "name": "python3"
  },
  "language_info": {
   "codemirror_mode": {
    "name": "ipython",
    "version": 3
   },
   "file_extension": ".py",
   "mimetype": "text/x-python",
   "name": "python",
   "nbconvert_exporter": "python",
   "pygments_lexer": "ipython3",
   "version": "3.11.5"
  }
 },
 "nbformat": 4,
 "nbformat_minor": 2
}
