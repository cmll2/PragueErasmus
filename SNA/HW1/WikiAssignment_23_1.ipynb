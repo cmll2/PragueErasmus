{
 "cells": [
  {
   "cell_type": "markdown",
   "metadata": {
    "deletable": false,
    "editable": false,
    "nbgrader": {
     "cell_type": "markdown",
     "checksum": "59947d5775417a214f06aae8fe722be1",
     "grade": false,
     "grade_id": "cell-907b1bd8e2838ca4",
     "locked": true,
     "schema_version": 3,
     "solution": false,
     "task": false
    }
   },
   "source": [
    "# Assignment: Analyzing Wikipedia Pages\n",
    "\n",
    "In this assignment, you will analyze a small fraction of [Wikipedia](https://en.wikipedia.org/wiki/Main_Page) pages. For manipulating Wikipedia pages, you will use `pywikibot` module, which could require an installation. You can install the module in several ways; it depends on your installation of Python and Jupyter. If you have administrator rights, you can use\n",
    "```\n",
    "pip install pywikibot\n",
    "```\n",
    "You can call it directly from the notebook:\n",
    "\n",
    "```\n",
    "!pip install pywikibot\n",
    "```\n",
    "Official documentation for the `pywikibot` module can be found [here](https://doc.wikimedia.org/pywikibot/stable/)."
   ]
  },
  {
   "cell_type": "code",
   "execution_count": 1,
   "metadata": {
    "deletable": false,
    "editable": false,
    "nbgrader": {
     "cell_type": "code",
     "checksum": "47a50e453a307ae6320876f0627d2f00",
     "grade": false,
     "grade_id": "cell-29d0ed56673f53db",
     "locked": true,
     "schema_version": 3,
     "solution": false,
     "task": false
    }
   },
   "outputs": [],
   "source": [
    "import pywikibot as pw\n",
    "import networkx as nx\n",
    "from pprint import pprint\n",
    "import numpy as np"
   ]
  },
  {
   "cell_type": "markdown",
   "metadata": {
    "deletable": false,
    "editable": false,
    "nbgrader": {
     "cell_type": "markdown",
     "checksum": "e426457fa9f59f19ff71290a21bb60f9",
     "grade": false,
     "grade_id": "cell-540c162dac2058df",
     "locked": true,
     "schema_version": 3,
     "solution": false,
     "task": false
    }
   },
   "source": [
    "Module `pywikibot` enables us to load Wikipedia pages and extract links contained within the pages. E.g., let us download the page about the beatle [Bembidion Ambiguum](https://en.wikipedia.org/wiki/Bembidion_ambiguum) \n",
    "\n",
    "![Bembidion ambiguum from Wikipedia](https://upload.wikimedia.org/wikipedia/commons/thumb/0/06/Bembidion_ambiguum.jpg/193px-Bembidion_ambiguum.jpg)\n",
    "\n",
    "Let us list all links from the page."
   ]
  },
  {
   "cell_type": "code",
   "execution_count": 2,
   "metadata": {
    "deletable": false,
    "editable": false,
    "nbgrader": {
     "cell_type": "code",
     "checksum": "0f59d73a15b1048a566f31c377f89d2f",
     "grade": false,
     "grade_id": "cell-0091a43f4c04402d",
     "locked": true,
     "schema_version": 3,
     "solution": false,
     "task": false
    }
   },
   "outputs": [
    {
     "name": "stdout",
     "output_type": "stream",
     "text": [
      "The Wikipedia page on 'Bembidion ambiguum' has the title 'Bembidion ambiguum' and contains 27 links:\n",
      "Animal\n",
      "Arthropod\n",
      "Beetle\n",
      "Bembidion\n",
      "Binomial nomenclature\n",
      "California\n",
      "Doi (identifier)\n",
      "Eukaryote\n",
      "Global Biodiversity Information Facility\n",
      "Ground beetle\n",
      "INaturalist\n",
      "Insect\n",
      "Mediterranean region\n",
      "PMC (identifier)\n",
      "PMID (identifier)\n",
      "Pierre François Marie Auguste Dejean\n",
      "Salt marsh\n",
      "San Francisco Bay\n",
      "Taxonomy (biology)\n",
      "Trechinae\n",
      "Wikidata\n",
      "Wikispecies\n",
      "Wikipedia:Stub\n",
      "Template:Taxonomy/Bembidion\n",
      "Template:Trechinae-stub\n",
      "Template talk:Trechinae-stub\n",
      "Help:Taxon identifiers\n"
     ]
    }
   ],
   "source": [
    "name = \"Bembidion ambiguum\"\n",
    "page = pw.Page(pw.Site('en', 'wikipedia'), name)\n",
    "\n",
    "linkedpages_list = []\n",
    "for lp in page.linkedPages():\n",
    "    linkedpages_list.append(lp.title())\n",
    "    \n",
    "print(f\"The Wikipedia page on '{name}' has the title '{page.title()}' and contains {len(linkedpages_list)} links:\")\n",
    "print(\"\\n\".join(linkedpages_list))"
   ]
  },
  {
   "cell_type": "markdown",
   "metadata": {
    "deletable": false,
    "editable": false,
    "nbgrader": {
     "cell_type": "markdown",
     "checksum": "7a3292c9d20847a1d79a041e167e2251",
     "grade": false,
     "grade_id": "cell-d8e3c322729ee671",
     "locked": true,
     "schema_version": 3,
     "solution": false,
     "task": false
    }
   },
   "source": [
    "We can also extract pages that refer to the page \"Bembidion ambiguum\"."
   ]
  },
  {
   "cell_type": "code",
   "execution_count": 3,
   "metadata": {
    "deletable": false,
    "editable": false,
    "nbgrader": {
     "cell_type": "code",
     "checksum": "b08348d7bc2a1cc560e416b8da298f72",
     "grade": false,
     "grade_id": "cell-88b52eec661b1e19",
     "locked": true,
     "schema_version": 3,
     "solution": false,
     "task": false
    }
   },
   "outputs": [
    {
     "name": "stdout",
     "output_type": "stream",
     "text": [
      "There are 5 pages linking to the page 'Bembidion ambiguum':\n",
      "List of Bembidion species\n",
      "Talk:Bembidion ambiguum\n",
      "Wikipedia:WikiProject Academic Journals/Journals cited by Wikipedia/B53\n",
      "Bembidion ambiguum\n",
      "Talk:Bembidion ambiguum\n"
     ]
    }
   ],
   "source": [
    "references_list = []\n",
    "for item_reflink in page.getReferences():\n",
    "    references_list.append(item_reflink.title())\n",
    "\n",
    "print(f\"There are {len(references_list)} pages linking to the page '{name}':\")\n",
    "print(\"\\n\".join(references_list))"
   ]
  },
  {
   "cell_type": "markdown",
   "metadata": {
    "deletable": false,
    "editable": false,
    "nbgrader": {
     "cell_type": "markdown",
     "checksum": "39aaed79eb61c437671315155775a764",
     "grade": false,
     "grade_id": "cell-e0ee27ca5f138e58",
     "locked": true,
     "schema_version": 3,
     "solution": false,
     "task": false
    }
   },
   "source": [
    "Our goal will be to analyze some notion that has a page in Wikipedia by building and analyzing the so-called ego network around the given notion.\n",
    "\n",
    "At first, you should build the ego network, a subgraph of nodes close to the node representing the given notion. Then, you will analyze the network.\n",
    "\n",
    "Your task is to implement three functions and then use them to analyze given notions.\n",
    "\n",
    "The first function \n",
    "```\n",
    "get_ego_network(ego)\n",
    "```\n",
    "should build a **directed** ego network around the page with the title `ego`. The ego network should contain all neighbors of the `ego` page and all links among them:\n",
    "* the `ego` node,\n",
    "* all nodes corresponding to Wikipedia pages referred to in the `ego` page, \n",
    "* all nodes corresponding to Wikipedia pages that refer to the `ego` page, and\n",
    "* all (directed) edges between the nodes.\n",
    "\n",
    "Hence, if a page from the ego network contains a link to a Wikipedia page not contained in the ego network, the link is ignored.\n",
    "\n",
    "Your implementation should **omit** \n",
    "* pages with titles containing the suffix \"(identifier)\" or \"(Identifier)\",\n",
    "* pages with titles containing the colon `:` (e.g., \"Template:Taxonomy/Bembidion\"),\n",
    "* self-loops (e.g., \"Bembidion ambiguum\" in the pages referencing the page \"'Bembidion ambiguum'\")."
   ]
  },
  {
   "cell_type": "code",
   "execution_count": 4,
   "metadata": {
    "deletable": false,
    "nbgrader": {
     "cell_type": "code",
     "checksum": "d0382965a038a02d140124008a1610f7",
     "grade": false,
     "grade_id": "cell-7b55abfadd1ee8eb",
     "locked": false,
     "schema_version": 3,
     "solution": true,
     "task": false
    }
   },
   "outputs": [],
   "source": [
    "def omit_title(title, source):\n",
    "    if ':' in title:\n",
    "        return True\n",
    "    elif title == source:\n",
    "        return True\n",
    "    #check '(identifier)' and '(Identifier)' as suffixes\n",
    "    elif title.endswith('(identifier)') or title.endswith('(Identifier)'):\n",
    "        return True\n",
    "    else:\n",
    "        return False\n",
    "\n",
    "def get_ego_network(ego):\n",
    "    '''Create ego network - a directed graph of Wikipedia pages - around the \n",
    "    page with the title ego.\n",
    "    '''\n",
    "    ego_net = nx.DiGraph()\n",
    "    ego_net.add_node(ego)\n",
    "    ego_page = pw.Page(pw.Site('en', 'wikipedia'), ego)\n",
    "    for lp in ego_page.linkedPages():\n",
    "        if omit_title(lp.title(), ego):\n",
    "            continue\n",
    "        else:\n",
    "            ego_net.add_edge(ego, lp.title())\n",
    "    for rp in ego_page.getReferences():\n",
    "        if omit_title(rp.title(), ego):\n",
    "            continue\n",
    "        else:\n",
    "            ego_net.add_edge(rp.title(), ego)\n",
    "    for node in ego_net.nodes():\n",
    "        for lp in pw.Page(pw.Site('en', 'wikipedia'), node).linkedPages():\n",
    "            if omit_title(lp.title(), node):\n",
    "                continue\n",
    "            else:\n",
    "                if lp.title() in ego_net.nodes():\n",
    "                    ego_net.add_edge(node, lp.title())\n",
    "    return ego_net"
   ]
  },
  {
   "cell_type": "markdown",
   "metadata": {
    "deletable": false,
    "editable": false,
    "nbgrader": {
     "cell_type": "markdown",
     "checksum": "94d06474c4c341a7412e677ee646f2c9",
     "grade": false,
     "grade_id": "cell-36339868c1789b05",
     "locked": true,
     "schema_version": 3,
     "solution": false,
     "task": false
    }
   },
   "source": [
    "The implementation of `get_ego_network` will be tested below, including some hidden tests (**1 point**)."
   ]
  },
  {
   "cell_type": "code",
   "execution_count": 5,
   "metadata": {
    "deletable": false,
    "editable": false,
    "nbgrader": {
     "cell_type": "code",
     "checksum": "94a563bfd3c1a03e06cf49d990217929",
     "grade": true,
     "grade_id": "cell-7eb172cb87c96baf",
     "locked": true,
     "points": 1,
     "schema_version": 3,
     "solution": false,
     "task": false
    }
   },
   "outputs": [
    {
     "name": "stdout",
     "output_type": "stream",
     "text": [
      "Number of nodes 21\n",
      "Number of edges 109\n"
     ]
    }
   ],
   "source": [
    "ego = 'Bembidion ambiguum'\n",
    "e = get_ego_network(ego)\n",
    "\n",
    "print(\"Number of nodes\", len(e))\n",
    "print(\"Number of edges\", len(list(e.edges())))\n",
    "assert len(e) == 21\n",
    "assert len(list(e.edges())) == 109\n"
   ]
  },
  {
   "cell_type": "markdown",
   "metadata": {
    "deletable": false,
    "editable": false,
    "nbgrader": {
     "cell_type": "markdown",
     "checksum": "7614faa1d28252fe5a54adb209d1e2fe",
     "grade": false,
     "grade_id": "cell-26fc6436d8cdd764",
     "locked": true,
     "schema_version": 3,
     "solution": false,
     "task": false
    }
   },
   "source": [
    "Implement the function\n",
    "```\n",
    "get_network(name, download=False)\n",
    "```\n",
    "\n",
    "that should create the ego-network (directed network of type `nx.DiGraph()`) around the page with the title `name`. If `download` is `True`, the network should be built by downloading pages from Wikipedia, and the built network should be stored as an edge list in the file with the name \n",
    "```\n",
    "name+'.csv'\n",
    "```\n",
    "If `download` is `False`, the function will check whether the file with the name `name+'.csv'` exists. If yes, it assumes that \n",
    "the file contains the edge-list of the ego network around the notion from the parameter `name`\n",
    "and returns a network (`nx.DiGraph()`) with the network. Otherwise, it collects the network by calling\n",
    "the function `get_ego_network(name)` and stores it in the corresponding CSV-file, and returns the network."
   ]
  },
  {
   "cell_type": "code",
   "execution_count": 6,
   "metadata": {
    "deletable": false,
    "nbgrader": {
     "cell_type": "code",
     "checksum": "490b2cde9e72ab9d9637851659435e1f",
     "grade": false,
     "grade_id": "cell-57e99cf095d11ece",
     "locked": false,
     "schema_version": 3,
     "solution": true,
     "task": false
    }
   },
   "outputs": [],
   "source": [
    "def get_network(name, download=False):\n",
    "    '''Create the network around the Wikipedia page with the title name. \n",
    "    Parameters:\n",
    "        Name (string)      the title of the page\n",
    "        depth (int)        the depth of the collected ego network\n",
    "        download (Boolean) if download is False and a file <name>.csv exists, the network \n",
    "                           is read from the file; otherwise, it is built using the function\n",
    "                           get_wikipedia_network(name,depth) and saved into file <name>.csv\n",
    "                           as a list of edges.\n",
    "    Returns:\n",
    "        An instance of nx.DiGraph() with the ego network around Wikipedia page name.\n",
    "    '''\n",
    "    if download:\n",
    "        net = get_ego_network(name)\n",
    "        nx.write_edgelist(net, name + \".csv\", delimiter=':', data=False)\n",
    "    else:\n",
    "        try:\n",
    "            net = nx.read_edgelist(name + \".csv\", delimiter=':', create_using=nx.DiGraph())\n",
    "        except FileNotFoundError:\n",
    "            net = get_ego_network(name)\n",
    "            nx.write_edgelist(net, name + \".csv\", delimiter=':', data=False)\n",
    "    return net\n"
   ]
  },
  {
   "cell_type": "markdown",
   "metadata": {
    "deletable": false,
    "editable": false,
    "nbgrader": {
     "cell_type": "markdown",
     "checksum": "d36a2f9306ae51e74ea587fe01861ac5",
     "grade": false,
     "grade_id": "cell-914e63314ba66014",
     "locked": true,
     "schema_version": 3,
     "solution": false,
     "task": false
    }
   },
   "source": [
    "The implementation of `get_network` will be tested below, including some hidden tests (**1 point**)."
   ]
  },
  {
   "cell_type": "code",
   "execution_count": 7,
   "metadata": {
    "deletable": false,
    "editable": false,
    "nbgrader": {
     "cell_type": "code",
     "checksum": "18a17beaaf735b811854a53fcfe88a94",
     "grade": true,
     "grade_id": "cell-d65da6df53713766",
     "locked": true,
     "points": 1,
     "schema_version": 3,
     "solution": false,
     "task": false
    }
   },
   "outputs": [],
   "source": [
    "ego = 'Bembidion ambiguum'\n",
    "\n",
    "\n",
    "\n",
    "G_Ambiguum = get_network(ego, download=True)\n"
   ]
  },
  {
   "cell_type": "markdown",
   "metadata": {
    "deletable": false,
    "editable": false,
    "nbgrader": {
     "cell_type": "markdown",
     "checksum": "c61fa9f6f0bec3fff4c3d52b8b12690a",
     "grade": false,
     "grade_id": "cell-ad8987d286fa9735",
     "locked": true,
     "schema_version": 3,
     "solution": false,
     "task": false
    }
   },
   "source": [
    "Using the above functions (and possibly other suitable functions) implement the function"
   ]
  },
  {
   "cell_type": "code",
   "execution_count": 8,
   "metadata": {
    "deletable": false,
    "nbgrader": {
     "cell_type": "code",
     "checksum": "c16b7ebd7774c7e402a40bcd52c189a4",
     "grade": false,
     "grade_id": "cell-c9e834dd94b1c8be",
     "locked": false,
     "schema_version": 3,
     "solution": true,
     "task": false
    }
   },
   "outputs": [],
   "source": [
    "def analyze_ego(G, ego):\n",
    "    '''Analyze the ego network G with the root node ego.\n",
    "    '''\n",
    "    all_nodes_except_ego = []\n",
    "    for nodes in G.nodes():\n",
    "        if nodes != ego:\n",
    "            all_nodes_except_ego.append(nodes)\n",
    "    G_without_ego = G.subgraph(all_nodes_except_ego)\n",
    "\n",
    "    analyze_dict = {}\n",
    "    analyze_dict['out_degree'] = G.out_degree(ego)\n",
    "    analyze_dict['in_degree'] = G.in_degree(ego)\n",
    "    analyze_dict['node_num'] = len(G.nodes())\n",
    "    analyze_dict['edge_num'] = len(G_without_ego.edges())\n",
    "    analyze_dict['density'] = nx.density(G)\n",
    "    analyze_dict['density_without_ego'] = nx.density(G_without_ego)\n",
    "    analyze_dict['betweenness'] = nx.betweenness_centrality(G,  normalized=True)[ego]\n",
    "    analyze_dict['clustering_coefficient'] = (nx.clustering(G, ego))\n",
    "    shortest_paths = []\n",
    "    for node in G.nodes():\n",
    "        if node != ego:\n",
    "            for node2 in G.nodes():\n",
    "                if node2 != ego and node != node2:\n",
    "                    if nx.has_path(G, node, node2):\n",
    "                        shortest_paths.append(nx.shortest_path_length(G, node, node2))\n",
    "                    else:\n",
    "                        shortest_paths.append(float('inf'))\n",
    "    analyze_dict['avg_distance'] =  (sum(shortest_paths) / len(shortest_paths)) if len(shortest_paths) else 0\n",
    "    analyze_dict['diameter'] = nx.diameter(G) if nx.is_strongly_connected(G) else float('inf')\n",
    "    analyze_dict['weak_component_num'] = nx.number_weakly_connected_components(G_without_ego)\n",
    "    analyze_dict['strong_component_num'] = nx.number_strongly_connected_components(G)\n",
    "    brokerage = 0\n",
    "    pairs = 0\n",
    "    for node in G.nodes():\n",
    "        if node != ego:\n",
    "            for node2 in G.nodes():\n",
    "                if node2 != ego and node != node2:\n",
    "                    if nx.has_path(G, node, node2):\n",
    "                        pairs += 1\n",
    "                        if not nx.has_path(G_without_ego, node, node2):\n",
    "                            brokerage += 1\n",
    "    analyze_dict['brokerage'] = brokerage\n",
    "    analyze_dict['avg_brokerage'] = brokerage/pairs\n",
    "\n",
    "    return analyze_dict\n"
   ]
  },
  {
   "cell_type": "markdown",
   "metadata": {
    "deletable": false,
    "editable": false,
    "nbgrader": {
     "cell_type": "markdown",
     "checksum": "d020f21047148226f9ae61d1695687af",
     "grade": false,
     "grade_id": "cell-b7905d7c4590c12e",
     "locked": true,
     "schema_version": 3,
     "solution": false,
     "task": false
    }
   },
   "source": [
    "that takes the ego network `G` around node `ego`, i.e., all nodes directly reachable from `ego` and the `ego` node itself. The function creates a dictionary containing values with the following keys:\n",
    "* `out_degree`: the out-degree of the ego node,\n",
    "* `in_degree`: the in-degree of the ego node (in the ego network only),\n",
    "* `node_num`: the number of nodes in the ego network (including the ego),\n",
    "* `edge_num`: the number of edges between the neighbors of the ego (without edges from or to the ego),\n",
    "* `density`: the ratio of the number of edges in the whole ego network (including the ego node) and the maximal possible number of edges in the whole ego network,\n",
    "* `density_without_ego`: the ratio of the number of edges in the ego network without the ego and the maximal possible number of edges in the ego network without the ego,\n",
    "* `betweenness`: the value of the normalized betweenness centrality for the `ego` node,\n",
    "* `clustering coefficient`: the fraction of all possible directed triangles \\(\\frac{T(\\texttt{ego})}{2(deg(\\texttt{ego})(deg(\\texttt{ego})-1) - 2deg^{\\leftrightarrow}(\\texttt{ego}))}\\), where \\(T(\\texttt{ego})\\) is the number of directed triangles through the node ego, \\(deg(\\texttt{ego})\\) is the sum of in-degree and out-degree of ego, and \\(deg^{\\leftrightarrow}(\\texttt{ego})\\) is the number nodes \\(v\\) such that the network contains both edges (ego,\\(v\\)) and (\\(v\\),ego)\n",
    "* `avg_distance`: the mean of the shortest path lengths among all pairs of the neighbors of the ego (paths in the whole ego network); if there are two nodes between which there is no oriented path in the network, the resulting value should be `float('inf')`,\n",
    "* `diameter`: diameter of the ego network; if there are two nodes between which there is no oriented path in the network, the resulting value should be `float('inf')`,\n",
    "* `weak_component_num`: the number of weak components in the network without the ego node; a weak component is the largest number of nodes that are connected, disregarding the direction of the edges (a strong component pays attention to the direction of the edges for directed data); if ego was connected to $A$ and $B$ (which are connected to one another), and ego is connected to $C$ and $D$ (which also are connected to one another), but $A$ and $B$ are not connected in any way to $C$ and $D$ (except by way of everyone being connected to ego) then there would be two \"weak components\" in ego's neighborhood. \n",
    "* `strong_component_num`: the number of strong components; a strong component is the largest number of nodes that are mutually connected (directed paths are considered). \n",
    "* `brokerage`: the number of pairs connected with a directed path when the ego node is present and not connected when the ego node is missing. The ego is a broker if it is \"between\" a pair of nodes that, without the ego, would not be connected.\n",
    "* `avg_brokerage`: the normalized brokerage (brokerage divided by the number of pairs); it assesses the extent to which ego's role is that of the broker. "
   ]
  },
  {
   "cell_type": "code",
   "execution_count": 9,
   "metadata": {
    "deletable": false,
    "editable": false,
    "nbgrader": {
     "cell_type": "code",
     "checksum": "f060ef506373618a6898d15ff26da769",
     "grade": false,
     "grade_id": "cell-e0bf09b37009ef7e",
     "locked": true,
     "schema_version": 3,
     "solution": false,
     "task": false
    }
   },
   "outputs": [
    {
     "data": {
      "image/png": "[encoded data removed]",
      "text/plain": [
       "<Figure size 640x480 with 1 Axes>"
      ]
     },
     "metadata": {},
     "output_type": "display_data"
    }
   ],
   "source": [
    "e1 = nx.DiGraph()\n",
    "e1.add_edges_from([('1','A'), ('1','B'), ('1','C'), ('1','D'), ('1','E'),\n",
    "                   ('A','1'), ('A','B'),  \n",
    "                   ('B','C'),\n",
    "                   ('C','D'),\n",
    "                   ('D','1'), ('D','E'),\n",
    "                   ('E','A')])\n",
    "pos = nx.spring_layout(e1, seed=42)\n",
    "nx.draw(e1, pos=pos, with_labels=True)"
   ]
  },
  {
   "cell_type": "code",
   "execution_count": 10,
   "metadata": {
    "deletable": false,
    "editable": false,
    "nbgrader": {
     "cell_type": "code",
     "checksum": "e019b5742cd76a8a71bce5f7c840807b",
     "grade": false,
     "grade_id": "cell-1c7c8bb1c40b8318",
     "locked": true,
     "schema_version": 3,
     "solution": false,
     "task": false
    }
   },
   "outputs": [
    {
     "name": "stdout",
     "output_type": "stream",
     "text": [
      "{'avg_brokerage': 0.0,\n",
      " 'avg_distance': 2.1,\n",
      " 'betweenness': 0.42500000000000004,\n",
      " 'brokerage': 0,\n",
      " 'clustering_coefficient': 0.23684210526315788,\n",
      " 'density': 0.4,\n",
      " 'density_without_ego': 0.25,\n",
      " 'diameter': 4,\n",
      " 'edge_num': 5,\n",
      " 'in_degree': 2,\n",
      " 'node_num': 6,\n",
      " 'out_degree': 5,\n",
      " 'strong_component_num': 1,\n",
      " 'weak_component_num': 1}\n"
     ]
    }
   ],
   "source": [
    "a = analyze_ego(e1, '1')\n",
    "pprint(a)\n",
    "\n",
    "from math import isclose\n",
    "\n",
    "assert a['out_degree'] == 5\n",
    "assert a['in_degree'] == 2\n",
    "assert a['node_num'] == 6\n",
    "assert a['edge_num'] == 5\n",
    "assert a['density'] == 0.4 \n",
    "assert a['density_without_ego'] == 0.25 \n",
    "assert isclose(a['clustering_coefficient'], 0.2368421052631)\n",
    "assert isclose(a['betweenness'], 0.425) \n",
    "assert isclose(a['avg_distance'], 2.1) \n",
    "assert isclose(a['diameter'], 4) \n",
    "assert a['weak_component_num'], 1 \n",
    "assert a['strong_component_num'], 1 \n",
    "assert a['brokerage'] == 0 \n",
    "assert a['avg_brokerage'] == 0"
   ]
  },
  {
   "cell_type": "code",
   "execution_count": 11,
   "metadata": {
    "deletable": false,
    "editable": false,
    "nbgrader": {
     "cell_type": "code",
     "checksum": "eed21d038ec94ad73ff173b44d4d44be",
     "grade": false,
     "grade_id": "cell-4fe31e4355b54227",
     "locked": true,
     "schema_version": 3,
     "solution": false,
     "task": false
    }
   },
   "outputs": [
    {
     "data": {
      "image/png": "[encoded data removed]",
      "text/plain": [
       "<Figure size 640x480 with 1 Axes>"
      ]
     },
     "metadata": {},
     "output_type": "display_data"
    }
   ],
   "source": [
    "e2 = nx.DiGraph()\n",
    "e2.add_edges_from([('1','A'), ('1','B'), ('1','C'), ('1','D'),\n",
    "                   ('A','B'),  \n",
    "                   ('B','C'),\n",
    "                   ('C','A'),\n",
    "                   ('D','1'), ('D','E'),\n",
    "                   ('E','D'), ('E','1')])\n",
    "pos = nx.spring_layout(e2, seed=42)\n",
    "nx.draw(e2, pos=pos, with_labels=True)"
   ]
  },
  {
   "cell_type": "markdown",
   "metadata": {
    "deletable": false,
    "editable": false,
    "nbgrader": {
     "cell_type": "markdown",
     "checksum": "b30d93a07c1a0dbc324f07a9c7b31c70",
     "grade": false,
     "grade_id": "cell-b6286a4ed88f5487",
     "locked": true,
     "schema_version": 3,
     "solution": false,
     "task": false
    }
   },
   "source": [
    "In the folowing cell your implementation of the function `analyze_ego` will be tested on the ego network `e2` (**2 points**). "
   ]
  },
  {
   "cell_type": "code",
   "execution_count": 12,
   "metadata": {
    "deletable": false,
    "editable": false,
    "nbgrader": {
     "cell_type": "code",
     "checksum": "6861cf63d661c7488b5743800fa79acf",
     "grade": true,
     "grade_id": "cell-f8b4632933032447",
     "locked": true,
     "points": 2,
     "schema_version": 3,
     "solution": false,
     "task": false
    }
   },
   "outputs": [
    {
     "name": "stdout",
     "output_type": "stream",
     "text": [
      "{'avg_brokerage': 0.42857142857142855,\n",
      " 'avg_distance': inf,\n",
      " 'betweenness': 0.30000000000000004,\n",
      " 'brokerage': 6,\n",
      " 'clustering_coefficient': 0.25,\n",
      " 'density': 0.36666666666666664,\n",
      " 'density_without_ego': 0.25,\n",
      " 'diameter': inf,\n",
      " 'edge_num': 3,\n",
      " 'in_degree': 2,\n",
      " 'node_num': 6,\n",
      " 'out_degree': 4,\n",
      " 'strong_component_num': 2,\n",
      " 'weak_component_num': 2}\n"
     ]
    }
   ],
   "source": [
    "a = analyze_ego(e2, '1')\n",
    "pprint(a)\n"
   ]
  },
  {
   "cell_type": "markdown",
   "metadata": {
    "deletable": false,
    "editable": false,
    "nbgrader": {
     "cell_type": "markdown",
     "checksum": "96d8f79f0b5eb1687541a3c2fded69f8",
     "grade": false,
     "grade_id": "cell-ef29973b7dd50fbe",
     "locked": true,
     "schema_version": 3,
     "solution": false,
     "task": false
    }
   },
   "source": [
    "After that, you should use your functions and analyze four ego networks:\n",
    "1. around `Network science`,\n",
    "2. around `Social network`,\n",
    "3. around `Social network analysis` and \n",
    "4. around your personal favorite Wikipedia page."
   ]
  },
  {
   "cell_type": "markdown",
   "metadata": {
    "deletable": false,
    "editable": false,
    "nbgrader": {
     "cell_type": "markdown",
     "checksum": "a91a55be7df77175456324b31114d16e",
     "grade": false,
     "grade_id": "cell-31f17d2b5d9adfb5",
     "locked": true,
     "schema_version": 3,
     "solution": false,
     "task": false
    }
   },
   "source": [
    "In the folowing cell you should analyze ego network around `Bembidion ambiguum` (**1 point**). "
   ]
  },
  {
   "cell_type": "code",
   "execution_count": 13,
   "metadata": {
    "deletable": false,
    "editable": false,
    "nbgrader": {
     "cell_type": "code",
     "checksum": "e754a3dacfbc228b48c2a2cdaf1c2d47",
     "grade": true,
     "grade_id": "cell-4e86babf12f09c09",
     "locked": true,
     "points": 1,
     "schema_version": 3,
     "solution": false,
     "task": false
    }
   },
   "outputs": [
    {
     "name": "stdout",
     "output_type": "stream",
     "text": [
      "{'avg_brokerage': 0.04819277108433735,\n",
      " 'avg_distance': inf,\n",
      " 'betweenness': 0.043421052631578944,\n",
      " 'brokerage': 8,\n",
      " 'clustering_coefficient': 0.23421052631578948,\n",
      " 'density': 0.25952380952380955,\n",
      " 'density_without_ego': 0.23421052631578948,\n",
      " 'diameter': inf,\n",
      " 'edge_num': 87,\n",
      " 'in_degree': 1,\n",
      " 'node_num': 21,\n",
      " 'out_degree': 19,\n",
      " 'strong_component_num': 9,\n",
      " 'weak_component_num': 3}\n"
     ]
    }
   ],
   "source": [
    "ego = 'Bembidion ambiguum'\n",
    "G_Ambiguum = get_network(ego, download=True)\n",
    "\n",
    "results = analyze_ego(G_Ambiguum, ego)\n",
    "pprint(results)\n",
    "\n",
    "from math import isclose\n",
    "assert isclose(results[\"out_degree\"], 19, abs_tol=1)\n",
    "assert isclose(results[\"in_degree\"], 1, abs_tol=1)\n",
    "assert isclose(results[\"node_num\"], 21, abs_tol=1)\n",
    "assert isclose(results[\"edge_num\"], 87, abs_tol=3)\n",
    "assert isclose(results[\"density\"], 0.25952380952380955, rel_tol=0.01)\n",
    "assert isclose(results[\"density_without_ego\"], 0.23421052631578948, rel_tol=0.01)\n",
    "assert isclose(results[\"clustering_coefficient\"], 0.23421052631578948, rel_tol=0.01)\n"
   ]
  },
  {
   "cell_type": "markdown",
   "metadata": {
    "deletable": false,
    "editable": false,
    "nbgrader": {
     "cell_type": "markdown",
     "checksum": "39371c8bc94dc14143dab555e07fde85",
     "grade": false,
     "grade_id": "cell-0c2cae8504b7c082",
     "locked": true,
     "schema_version": 3,
     "solution": false,
     "task": false
    }
   },
   "source": [
    "In the folowing cell you should analyze ego network around `Network science` (**1 point**). "
   ]
  },
  {
   "cell_type": "code",
   "execution_count": 14,
   "metadata": {
    "deletable": false,
    "editable": false,
    "nbgrader": {
     "cell_type": "code",
     "checksum": "8c15aad79058e8f10cd9fe8ea2f97bd6",
     "grade": true,
     "grade_id": "cell-a2f002b7c1c38f08",
     "locked": true,
     "points": 1,
     "schema_version": 3,
     "solution": false,
     "task": false
    }
   },
   "outputs": [
    {
     "name": "stdout",
     "output_type": "stream",
     "text": [
      "{'avg_brokerage': 0.08437025599771639,\n",
      " 'avg_distance': inf,\n",
      " 'betweenness': 0.33082738336309775,\n",
      " 'brokerage': 26010,\n",
      " 'clustering_coefficient': 0.06648053847937135,\n",
      " 'density': 0.048890736492033085,\n",
      " 'density_without_ego': 0.04718086791257523,\n",
      " 'diameter': inf,\n",
      " 'edge_num': 14122,\n",
      " 'in_degree': 276,\n",
      " 'node_num': 617,\n",
      " 'out_degree': 432,\n",
      " 'strong_component_num': 120,\n",
      " 'weak_component_num': 24}\n"
     ]
    }
   ],
   "source": [
    "ego = 'Network science'\n",
    "G_N_science = get_network(ego, download=False)\n",
    "\n",
    "res_dict = {}\n",
    "res_dict[ego] = analyze_ego(G_N_science, ego)\n",
    "pprint(res_dict[ego])\n"
   ]
  },
  {
   "cell_type": "markdown",
   "metadata": {
    "deletable": false,
    "editable": false,
    "nbgrader": {
     "cell_type": "markdown",
     "checksum": "03abff88130379c70012434ddf0250bb",
     "grade": false,
     "grade_id": "cell-cab76d1ec8372914",
     "locked": true,
     "schema_version": 3,
     "solution": false,
     "task": false
    }
   },
   "source": [
    "In the folowing cell you should analyze ego network around `Social network` (**1 point**). "
   ]
  },
  {
   "cell_type": "code",
   "execution_count": 15,
   "metadata": {
    "deletable": false,
    "editable": false,
    "nbgrader": {
     "cell_type": "code",
     "checksum": "58619f94fd0d56e0d337f3a368ea0416",
     "grade": true,
     "grade_id": "cell-868fbd52e095962f",
     "locked": true,
     "points": 1,
     "schema_version": 3,
     "solution": false,
     "task": false
    }
   },
   "outputs": [
    {
     "name": "stdout",
     "output_type": "stream",
     "text": [
      "{'avg_brokerage': 0.11402386558675234,\n",
      " 'avg_distance': inf,\n",
      " 'betweenness': 0.37887979842848785,\n",
      " 'brokerage': 503040,\n",
      " 'clustering_coefficient': 0.028210520168928308,\n",
      " 'density': 0.014522780529291653,\n",
      " 'density_without_ego': 0.014117961361226157,\n",
      " 'diameter': inf,\n",
      " 'edge_num': 78573,\n",
      " 'in_degree': 2290,\n",
      " 'node_num': 2717,\n",
      " 'out_degree': 774,\n",
      " 'strong_component_num': 1067,\n",
      " 'weak_component_num': 242}\n"
     ]
    }
   ],
   "source": [
    "ego = 'Social network'\n",
    "G_S_network = get_network(ego, download=False)\n",
    "\n",
    "res_dict[ego] = analyze_ego(G_S_network, ego)\n",
    "pprint(res_dict[ego])\n"
   ]
  },
  {
   "cell_type": "markdown",
   "metadata": {
    "deletable": false,
    "editable": false,
    "nbgrader": {
     "cell_type": "markdown",
     "checksum": "87f3c8f2b83a548119442bb669bc4483",
     "grade": false,
     "grade_id": "cell-4e07f52e840ba52b",
     "locked": true,
     "schema_version": 3,
     "solution": false,
     "task": false
    }
   },
   "source": [
    "In the folowing cell you should analyze ego network around `Social network analysis` (**1 point**). "
   ]
  },
  {
   "cell_type": "code",
   "execution_count": 16,
   "metadata": {
    "deletable": false,
    "editable": false,
    "nbgrader": {
     "cell_type": "code",
     "checksum": "95005a5d638259496a236c45e4e4a687",
     "grade": true,
     "grade_id": "cell-905c43cc7b1512d3",
     "locked": true,
     "points": 1,
     "schema_version": 3,
     "solution": false,
     "task": false
    }
   },
   "outputs": [
    {
     "name": "stdout",
     "output_type": "stream",
     "text": [
      "{'avg_brokerage': 0.06158717601496643,\n",
      " 'avg_distance': inf,\n",
      " 'betweenness': 0.3377704124541689,\n",
      " 'brokerage': 30517,\n",
      " 'clustering_coefficient': 0.1151784658070483,\n",
      " 'density': 0.07849310222851079,\n",
      " 'density_without_ego': 0.07706753584516914,\n",
      " 'diameter': inf,\n",
      " 'edge_num': 24051,\n",
      " 'in_degree': 543,\n",
      " 'node_num': 771,\n",
      " 'out_degree': 422,\n",
      " 'strong_component_num': 125,\n",
      " 'weak_component_num': 27}\n"
     ]
    }
   ],
   "source": [
    "ego = 'Social network analysis'\n",
    "G_S_N_Analysis = get_network(ego, download=False)\n",
    "\n",
    "res_dict[ego] = analyze_ego(G_S_N_Analysis, ego)\n",
    "pprint(res_dict[ego])\n"
   ]
  },
  {
   "cell_type": "markdown",
   "metadata": {
    "deletable": false,
    "editable": false,
    "nbgrader": {
     "cell_type": "markdown",
     "checksum": "57482344379514fed3b7c00fe7f4baee",
     "grade": false,
     "grade_id": "cell-486e1e6df2eeeeb5",
     "locked": true,
     "schema_version": 3,
     "solution": false,
     "task": false
    }
   },
   "source": [
    "In the folowing two cells you should select your favourite Wikipedia page and analyze its ego network (**1 point**). "
   ]
  },
  {
   "cell_type": "code",
   "execution_count": 20,
   "metadata": {
    "deletable": false,
    "nbgrader": {
     "cell_type": "code",
     "checksum": "1a439347196957a66940d4bfacb36552",
     "grade": false,
     "grade_id": "cell-361fd1ff21051a75",
     "locked": false,
     "schema_version": 3,
     "solution": true,
     "task": false
    }
   },
   "outputs": [
    {
     "name": "stdout",
     "output_type": "stream",
     "text": [
      "{'avg_brokerage': 0.01591808564978184,\n",
      " 'avg_distance': inf,\n",
      " 'betweenness': 0.20962237676352025,\n",
      " 'brokerage': 20412,\n",
      " 'clustering_coefficient': 0.07450573108481452,\n",
      " 'density': 0.06531719899989435,\n",
      " 'density_without_ego': 0.06427690593670125,\n",
      " 'diameter': inf,\n",
      " 'edge_num': 59884,\n",
      " 'in_degree': 807,\n",
      " 'node_num': 1168,\n",
      " 'out_degree': 761,\n",
      " 'strong_component_num': 64,\n",
      " 'weak_component_num': 7}\n"
     ]
    }
   ],
   "source": [
    "ego = 'Kylian Mbappé'\n",
    "\n",
    "G_favorite = get_network(ego, download=False)\n",
    "\n",
    "res_dict[ego] = analyze_ego(G_favorite, ego)\n",
    "pprint(res_dict[ego])"
   ]
  },
  {
   "cell_type": "code",
   "execution_count": 18,
   "metadata": {
    "deletable": false,
    "editable": false,
    "nbgrader": {
     "cell_type": "code",
     "checksum": "cdbf8b7ac4379bb9fded0c920d2392e6",
     "grade": true,
     "grade_id": "cell-c0d9639c2d919607",
     "locked": true,
     "points": 1,
     "schema_version": 3,
     "solution": false,
     "task": false
    }
   },
   "outputs": [],
   "source": [
    "assert res_dict[ego]['node_num'] > 1"
   ]
  },
  {
   "cell_type": "markdown",
   "metadata": {
    "deletable": false,
    "editable": false,
    "nbgrader": {
     "cell_type": "markdown",
     "checksum": "1cd09184fd2fa266e48e0ca374fa4de9",
     "grade": false,
     "grade_id": "cell-5bb445637fda2b01",
     "locked": true,
     "schema_version": 3,
     "solution": false,
     "task": false
    }
   },
   "source": [
    "Collect the obtained measures in a table."
   ]
  },
  {
   "cell_type": "code",
   "execution_count": 19,
   "metadata": {
    "deletable": false,
    "nbgrader": {
     "cell_type": "code",
     "checksum": "c0affeeb128f5fd53573c303aa122f3e",
     "grade": false,
     "grade_id": "cell-7a8c18eb82a04082",
     "locked": false,
     "schema_version": 3,
     "solution": true,
     "task": false
    }
   },
   "outputs": [
    {
     "data": {
      "text/html": [
       "<div>\n",
       "<style scoped>\n",
       "    .dataframe tbody tr th:only-of-type {\n",
       "        vertical-align: middle;\n",
       "    }\n",
       "\n",
       "    .dataframe tbody tr th {\n",
       "        vertical-align: top;\n",
       "    }\n",
       "\n",
       "    .dataframe thead th {\n",
       "        text-align: right;\n",
       "    }\n",
       "</style>\n",
       "<table border=\"1\" class=\"dataframe\">\n",
       "  <thead>\n",
       "    <tr style=\"text-align: right;\">\n",
       "      <th></th>\n",
       "      <th>Network science</th>\n",
       "      <th>Social network</th>\n",
       "      <th>Social network analysis</th>\n",
       "      <th>Kylian Mbappé</th>\n",
       "    </tr>\n",
       "  </thead>\n",
       "  <tbody>\n",
       "    <tr>\n",
       "      <th>out_degree</th>\n",
       "      <td>432.00</td>\n",
       "      <td>774.00</td>\n",
       "      <td>422.00</td>\n",
       "      <td>761.00</td>\n",
       "    </tr>\n",
       "    <tr>\n",
       "      <th>in_degree</th>\n",
       "      <td>276.00</td>\n",
       "      <td>2290.00</td>\n",
       "      <td>543.00</td>\n",
       "      <td>807.00</td>\n",
       "    </tr>\n",
       "    <tr>\n",
       "      <th>node_num</th>\n",
       "      <td>617.00</td>\n",
       "      <td>2717.00</td>\n",
       "      <td>771.00</td>\n",
       "      <td>1168.00</td>\n",
       "    </tr>\n",
       "    <tr>\n",
       "      <th>edge_num</th>\n",
       "      <td>14122.00</td>\n",
       "      <td>78573.00</td>\n",
       "      <td>24051.00</td>\n",
       "      <td>59884.00</td>\n",
       "    </tr>\n",
       "    <tr>\n",
       "      <th>density</th>\n",
       "      <td>0.05</td>\n",
       "      <td>0.01</td>\n",
       "      <td>0.08</td>\n",
       "      <td>0.07</td>\n",
       "    </tr>\n",
       "    <tr>\n",
       "      <th>density_without_ego</th>\n",
       "      <td>0.05</td>\n",
       "      <td>0.01</td>\n",
       "      <td>0.08</td>\n",
       "      <td>0.06</td>\n",
       "    </tr>\n",
       "    <tr>\n",
       "      <th>betweenness</th>\n",
       "      <td>0.33</td>\n",
       "      <td>0.38</td>\n",
       "      <td>0.34</td>\n",
       "      <td>0.21</td>\n",
       "    </tr>\n",
       "    <tr>\n",
       "      <th>clustering_coefficient</th>\n",
       "      <td>0.07</td>\n",
       "      <td>0.03</td>\n",
       "      <td>0.12</td>\n",
       "      <td>0.07</td>\n",
       "    </tr>\n",
       "    <tr>\n",
       "      <th>avg_distance</th>\n",
       "      <td>inf</td>\n",
       "      <td>inf</td>\n",
       "      <td>inf</td>\n",
       "      <td>inf</td>\n",
       "    </tr>\n",
       "    <tr>\n",
       "      <th>diameter</th>\n",
       "      <td>inf</td>\n",
       "      <td>inf</td>\n",
       "      <td>inf</td>\n",
       "      <td>inf</td>\n",
       "    </tr>\n",
       "    <tr>\n",
       "      <th>weak_component_num</th>\n",
       "      <td>24.00</td>\n",
       "      <td>242.00</td>\n",
       "      <td>27.00</td>\n",
       "      <td>7.00</td>\n",
       "    </tr>\n",
       "    <tr>\n",
       "      <th>strong_component_num</th>\n",
       "      <td>120.00</td>\n",
       "      <td>1067.00</td>\n",
       "      <td>125.00</td>\n",
       "      <td>64.00</td>\n",
       "    </tr>\n",
       "    <tr>\n",
       "      <th>brokerage</th>\n",
       "      <td>26010.00</td>\n",
       "      <td>503040.00</td>\n",
       "      <td>30517.00</td>\n",
       "      <td>20412.00</td>\n",
       "    </tr>\n",
       "    <tr>\n",
       "      <th>avg_brokerage</th>\n",
       "      <td>0.08</td>\n",
       "      <td>0.11</td>\n",
       "      <td>0.06</td>\n",
       "      <td>0.02</td>\n",
       "    </tr>\n",
       "  </tbody>\n",
       "</table>\n",
       "</div>"
      ],
      "text/plain": [
       "                        Network science  Social network  \\\n",
       "out_degree                       432.00          774.00   \n",
       "in_degree                        276.00         2290.00   \n",
       "node_num                         617.00         2717.00   \n",
       "edge_num                       14122.00        78573.00   \n",
       "density                            0.05            0.01   \n",
       "density_without_ego                0.05            0.01   \n",
       "betweenness                        0.33            0.38   \n",
       "clustering_coefficient             0.07            0.03   \n",
       "avg_distance                        inf             inf   \n",
       "diameter                            inf             inf   \n",
       "weak_component_num                24.00          242.00   \n",
       "strong_component_num             120.00         1067.00   \n",
       "brokerage                      26010.00       503040.00   \n",
       "avg_brokerage                      0.08            0.11   \n",
       "\n",
       "                        Social network analysis  Kylian Mbappé  \n",
       "out_degree                               422.00         761.00  \n",
       "in_degree                                543.00         807.00  \n",
       "node_num                                 771.00        1168.00  \n",
       "edge_num                               24051.00       59884.00  \n",
       "density                                    0.08           0.07  \n",
       "density_without_ego                        0.08           0.06  \n",
       "betweenness                                0.34           0.21  \n",
       "clustering_coefficient                     0.12           0.07  \n",
       "avg_distance                                inf            inf  \n",
       "diameter                                    inf            inf  \n",
       "weak_component_num                        27.00           7.00  \n",
       "strong_component_num                     125.00          64.00  \n",
       "brokerage                              30517.00       20412.00  \n",
       "avg_brokerage                              0.06           0.02  "
      ]
     },
     "execution_count": 19,
     "metadata": {},
     "output_type": "execute_result"
    }
   ],
   "source": [
    "# create a table: rows should be collected measures, and columns should be titles of the ego nodes\n",
    "import pandas as pd\n",
    "pd.set_option('display.float_format', '{:.2f}'.format)\n",
    "df = pd.DataFrame(res_dict)\n",
    "df"
   ]
  },
  {
   "cell_type": "markdown",
   "metadata": {
    "deletable": false,
    "editable": false,
    "nbgrader": {
     "cell_type": "markdown",
     "checksum": "d8023139f9ec9dba214ae7355ac0bb6f",
     "grade": false,
     "grade_id": "cell-4915830ee057d7f8",
     "locked": true,
     "schema_version": 3,
     "solution": false,
     "task": false
    }
   },
   "source": [
    "Are the networks comparable? Compare the four ego networks according to the obtained results and write yoyr answer in the cell below (**1 point**)."
   ]
  },
  {
   "cell_type": "markdown",
   "metadata": {
    "deletable": false,
    "nbgrader": {
     "cell_type": "markdown",
     "checksum": "2b2a2e76c8cd7790c58400fa98daf7b2",
     "grade": true,
     "grade_id": "cell-ffb6e9530a2d2207",
     "locked": false,
     "points": 1,
     "schema_version": 3,
     "solution": true,
     "task": false
    }
   },
   "source": [
    "We can clearly see that the biggest network is the Social Network one, followed by Mbappé and then Network Science and Social Network Analysis. This seems pretty logical as Social Science and Social Network Analysis seems to be subtopics of Social Networks in general.\n",
    "\n",
    "Then, we can see that the biggest edge_number / node_number ratio is for the Mbappé one, which suggest that every linked pages (footballers and teams for example) have more interactions between each others. The others have smaller values probably because it is easier to bifurcate on totally different subsubjects.\n",
    "\n",
    "However, the betweeness is higher in the scientifics network, probably because they are important fields used in many others. Where Mbappé is for example just part of the france team as every other french players so if he was there or not he wouldn't change anything for a lot of actors linked through the france team. The brokerage value kind of follows these, which seems logical except for the SNA network which could be because of various other longer path but existing ones between the different nodes of the network.\n",
    "\n",
    "There is very few clustering values in all of these networks, except for the social network analysis, maybe because it leads to very specific applications.\n",
    "\n",
    "Every scientific networks have similar weak and strong components numbers whereas the Mbappé one is particularly low : which is clearly in adequation with what we saw earlier.\n",
    "\n",
    "Finally the fact that the only network with density dropping while removing ego node is the Mbappé one, that indicates that it is an important node in the network (which is in adequation with the real life as Mbappé is a major actor of the football world).\n",
    "\n",
    "\n",
    "\n",
    "\n",
    "\n"
   ]
  },
  {
   "cell_type": "markdown",
   "metadata": {
    "deletable": false,
    "editable": false,
    "nbgrader": {
     "cell_type": "markdown",
     "checksum": "917d60944df7f5b4a38dc7cfad034ae8",
     "grade": false,
     "grade_id": "cell-b2ee02f9e3cddf2f",
     "locked": true,
     "schema_version": 3,
     "solution": false,
     "task": false
    }
   },
   "source": [
    "## What to submit\n",
    "\n",
    "1. Notebook, where all the questions are answered, and the requested code is filled in.\n",
    "2. Five CSV files with downloaded networks\n",
    "3. 1. `Bembidion ambiguum.csv`,\n",
    "   2. `Network science.csv`\n",
    "   3. `Network science.csv`\n",
    "   4. `Social network analysis.csv`\n",
    "   5. CSV file with the ego network of your favorite Wikipedia page."
   ]
  },
  {
   "cell_type": "code",
   "execution_count": null,
   "metadata": {},
   "outputs": [],
   "source": []
  }
 ],
 "metadata": {
  "kernelspec": {
   "display_name": "Python 3 (ipykernel)",
   "language": "python",
   "name": "python3"
  },
  "language_info": {
   "codemirror_mode": {
    "name": "ipython",
    "version": 3
   },
   "file_extension": ".py",
   "mimetype": "text/x-python",
   "name": "python",
   "nbconvert_exporter": "python",
   "pygments_lexer": "ipython3",
   "version": "3.11.5"
  }
 },
 "nbformat": 4,
 "nbformat_minor": 4
}
